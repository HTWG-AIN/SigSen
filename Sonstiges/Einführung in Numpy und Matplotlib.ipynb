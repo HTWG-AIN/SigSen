{
 "metadata": {
  "name": "",
  "signature": "sha256:ed3f578b6b48dfa258756bb63e298bf170dd8fd6dab91115ea4f8ddb28cdb2e0"
 },
 "nbformat": 3,
 "nbformat_minor": 0,
 "worksheets": [
  {
   "cells": [
    {
     "cell_type": "heading",
     "level": 1,
     "metadata": {},
     "source": [
      "A. Numpy: effiziente Verarbeitung mehrdimensionaler Arrays in Python"
     ]
    },
    {
     "cell_type": "heading",
     "level": 2,
     "metadata": {},
     "source": [
      "\n",
      "1. Anlegen von Numpy-Arrays"
     ]
    },
    {
     "cell_type": "markdown",
     "metadata": {},
     "source": [
      "Zur Benutzung von Numpy muss das Modul importiert werden, nach der empfolenen Konvention unter dem Namen *np*:"
     ]
    },
    {
     "cell_type": "code",
     "collapsed": false,
     "input": [
      "import numpy as np"
     ],
     "language": "python",
     "metadata": {},
     "outputs": []
    },
    {
     "cell_type": "markdown",
     "metadata": {},
     "source": [
      "Es gibt viele M\u00f6glichkeiten, Numpy-Arrays anzulegen, z.B.\n",
      "\n",
      "* auf Basis von Python-Tupelen und -Listen\n",
      "* durch spezielle Funktionen\n",
      "* durch Einlesen Files."
     ]
    },
    {
     "cell_type": "heading",
     "level": 3,
     "metadata": {},
     "source": [
      "1.1. Aus Listen"
     ]
    },
    {
     "cell_type": "markdown",
     "metadata": {},
     "source": [
      "Zum Anlegen eines Vektors oder einer Matrix auf Basis einer Liste kann man z.B. die Funktion *numpy.array()* verwenden:"
     ]
    },
    {
     "cell_type": "code",
     "collapsed": false,
     "input": [
      "# a vector: the argument to the array function is a Python list\n",
      "v = np.array([1,2,3,4])\n",
      "\n",
      "v"
     ],
     "language": "python",
     "metadata": {},
     "outputs": []
    },
    {
     "cell_type": "code",
     "collapsed": false,
     "input": [
      "# a matrix: the argument to the array function is a nested Python list\n",
      "M = np.array([[1, 2], [3, 4]])\n",
      "\n",
      "M"
     ],
     "language": "python",
     "metadata": {},
     "outputs": []
    },
    {
     "cell_type": "markdown",
     "metadata": {},
     "source": [
      "Die beiden Objekte *v* und *M* sind beide vom Typ *ndarray*, der von Numpy zur Verf\u00fcgung gestellt wird:"
     ]
    },
    {
     "cell_type": "code",
     "collapsed": false,
     "input": [
      "type(v), type(M)"
     ],
     "language": "python",
     "metadata": {},
     "outputs": []
    },
    {
     "cell_type": "markdown",
     "metadata": {},
     "source": [
      "Die beiden Arrays *v* und *M* unterscheiden sich nur durch ihre Gr\u00f6\u00dfe, die man \u00fcber das Attribut *shape* auslesen kann:"
     ]
    },
    {
     "cell_type": "code",
     "collapsed": false,
     "input": [
      "v.shape"
     ],
     "language": "python",
     "metadata": {},
     "outputs": []
    },
    {
     "cell_type": "code",
     "collapsed": false,
     "input": [
      "M.shape"
     ],
     "language": "python",
     "metadata": {},
     "outputs": []
    },
    {
     "cell_type": "markdown",
     "metadata": {},
     "source": [
      "Die Anzahl der Array-Elemente erh\u00e4lt man aus dem Atribut *size*:"
     ]
    },
    {
     "cell_type": "code",
     "collapsed": false,
     "input": [
      "M.size"
     ],
     "language": "python",
     "metadata": {},
     "outputs": []
    },
    {
     "cell_type": "markdown",
     "metadata": {},
     "source": [
      "Alternativ gibt es auch die beiden Funktionen *numpy.shape()* und *numpy.size()*:"
     ]
    },
    {
     "cell_type": "code",
     "collapsed": false,
     "input": [
      "np.shape(M)"
     ],
     "language": "python",
     "metadata": {},
     "outputs": []
    },
    {
     "cell_type": "code",
     "collapsed": false,
     "input": [
      "np.size(M)"
     ],
     "language": "python",
     "metadata": {},
     "outputs": []
    },
    {
     "cell_type": "markdown",
     "metadata": {},
     "source": [
      "Auf den ersten Blick sieht ein Numpy-Array also \u00e4hnlich wie eine Liste in Python aus. Es gibt aber wichtige Unterschiede:\n",
      "\n",
      "* Python-Listen k\u00f6nnen beliebige und wechselnde Objekte enthalten (dynamische Typisierung).\n",
      "* Aufgrund der dynamischen Typisierung existieren keine mathematischen Funktionen, die man effizient auf Python-Listen ausf\u00fchren kann.\n",
      "* Numpy-Arrays sind statisch typisiert und homogen. Der Datentyp der Elemente wird beim Anlegen des Arrays festgelegt.\n",
      "* Dadurch k\u00f6nnen Numpy-Arrays effizient in C oder Fortran vektorisiert verarbeitet werden.\n",
      "\n",
      "Den Datentyp des Arrays erh\u00e4lt man aus dem Attribut *dtype*:"
     ]
    },
    {
     "cell_type": "code",
     "collapsed": false,
     "input": [
      "M.dtype"
     ],
     "language": "python",
     "metadata": {},
     "outputs": []
    },
    {
     "cell_type": "markdown",
     "metadata": {},
     "source": [
      "Weist man einem Array-Element einen Wert mit dem falschen Datentyp zu, erh\u00e4lt man einen Fehler:"
     ]
    },
    {
     "cell_type": "code",
     "collapsed": false,
     "input": [
      "M[0,0] = \"HTWG\""
     ],
     "language": "python",
     "metadata": {},
     "outputs": []
    },
    {
     "cell_type": "markdown",
     "metadata": {},
     "source": [
      "Der Datentyp kann explizit beim Anlegen des Arrays festgelegt werden:"
     ]
    },
    {
     "cell_type": "code",
     "collapsed": false,
     "input": [
      "M = np.array([[1, 2], [3, 4]], dtype=float)\n",
      "\n",
      "M"
     ],
     "language": "python",
     "metadata": {},
     "outputs": []
    },
    {
     "cell_type": "markdown",
     "metadata": {},
     "source": [
      "G\u00e4ngige Datentypen sind *int, float, complex, bool, object*, etc.\n",
      "\n",
      "Man kann auch explizit die Gr\u00f6\u00dfe des Datentyps in Bytes festlegen, z.B. *int64, int16, float128, complex128*.\n",
      "\n",
      "Weitere Attribute:"
     ]
    },
    {
     "cell_type": "code",
     "collapsed": false,
     "input": [
      "M.itemsize # bytes per element"
     ],
     "language": "python",
     "metadata": {},
     "outputs": []
    },
    {
     "cell_type": "code",
     "collapsed": false,
     "input": [
      "M.nbytes # number of bytes"
     ],
     "language": "python",
     "metadata": {},
     "outputs": []
    },
    {
     "cell_type": "code",
     "collapsed": false,
     "input": [
      "M.ndim # number of dimensions"
     ],
     "language": "python",
     "metadata": {},
     "outputs": []
    },
    {
     "cell_type": "heading",
     "level": 3,
     "metadata": {},
     "source": [
      "1.2. Benutzung von Array-erzeugenden Funktionen"
     ]
    },
    {
     "cell_type": "markdown",
     "metadata": {},
     "source": [
      "Bei gr\u00f6\u00dferen Arrays ist das \"manuelle\" Anlegen mit Listen unpraktisch. Stattdessen kann man eine der vielen Numpy-Funktionen zur Erzeugung von Arrays benutzen. H\u00e4ufig eingesetzt werden:"
     ]
    },
    {
     "cell_type": "heading",
     "level": 4,
     "metadata": {},
     "source": [
      "arange()"
     ]
    },
    {
     "cell_type": "code",
     "collapsed": false,
     "input": [
      "# create a range\n",
      "\n",
      "x = np.arange(0, 10, 1) # arguments: start, stop, step\n",
      "\n",
      "x"
     ],
     "language": "python",
     "metadata": {},
     "outputs": []
    },
    {
     "cell_type": "code",
     "collapsed": false,
     "input": [
      "x = np.arange(-1, 1, 0.1)\n",
      "\n",
      "x"
     ],
     "language": "python",
     "metadata": {},
     "outputs": []
    },
    {
     "cell_type": "heading",
     "level": 4,
     "metadata": {},
     "source": [
      "linspace() und logspace()"
     ]
    },
    {
     "cell_type": "code",
     "collapsed": false,
     "input": [
      "# using linspace, both end points ARE included\n",
      "np.linspace(0, 10, 25)"
     ],
     "language": "python",
     "metadata": {},
     "outputs": []
    },
    {
     "cell_type": "code",
     "collapsed": false,
     "input": [
      "np.logspace(0, 10, 10, base=np.e)"
     ],
     "language": "python",
     "metadata": {},
     "outputs": []
    },
    {
     "cell_type": "heading",
     "level": 4,
     "metadata": {},
     "source": [
      "Zufallszahlen"
     ]
    },
    {
     "cell_type": "code",
     "collapsed": false,
     "input": [
      "from numpy import random\n",
      "\n",
      "# uniform random numbers in [0,1]\n",
      "random.rand(5,5)"
     ],
     "language": "python",
     "metadata": {},
     "outputs": []
    },
    {
     "cell_type": "code",
     "collapsed": false,
     "input": [
      "# standard normal distributed random numbers\n",
      "random.randn(5,5)"
     ],
     "language": "python",
     "metadata": {},
     "outputs": []
    },
    {
     "cell_type": "heading",
     "level": 4,
     "metadata": {},
     "source": [
      "Diagonalmatritzen mit diag()"
     ]
    },
    {
     "cell_type": "code",
     "collapsed": false,
     "input": [
      "# a diagonal matrix\n",
      "np.diag([1,2,3])"
     ],
     "language": "python",
     "metadata": {},
     "outputs": []
    },
    {
     "cell_type": "code",
     "collapsed": false,
     "input": [
      "# diagonal with offset from the main diagonal\n",
      "np.diag([1,2,3], k=1) "
     ],
     "language": "python",
     "metadata": {},
     "outputs": []
    },
    {
     "cell_type": "heading",
     "level": 4,
     "metadata": {},
     "source": [
      "Nullen und Einsen"
     ]
    },
    {
     "cell_type": "code",
     "collapsed": false,
     "input": [
      "np.zeros((3,3))"
     ],
     "language": "python",
     "metadata": {},
     "outputs": []
    },
    {
     "cell_type": "code",
     "collapsed": false,
     "input": [
      "np.ones((3,3))"
     ],
     "language": "python",
     "metadata": {},
     "outputs": []
    },
    {
     "cell_type": "heading",
     "level": 3,
     "metadata": {},
     "source": [
      "1.3. Erzeugung aus Files"
     ]
    },
    {
     "cell_type": "markdown",
     "metadata": {},
     "source": [
      "Ein h\u00e4ufig eingesetztes Fileformat f\u00fcr Daten sind CSV- (comma-separated values) und TSV-(tab-separated values)-Tabellen. Diese Daten k\u00f6nnen mit der Funktion *numpy.genfromtxt()* in Numpy-Arrays eingelesen werden, z.B."
     ]
    },
    {
     "cell_type": "code",
     "collapsed": false,
     "input": [
      "!head stockholm_td_adj.dat"
     ],
     "language": "python",
     "metadata": {},
     "outputs": []
    },
    {
     "cell_type": "code",
     "collapsed": false,
     "input": [
      "data = np.genfromtxt('stockholm_td_adj.dat')"
     ],
     "language": "python",
     "metadata": {},
     "outputs": []
    },
    {
     "cell_type": "code",
     "collapsed": false,
     "input": [
      "data.shape"
     ],
     "language": "python",
     "metadata": {},
     "outputs": []
    },
    {
     "cell_type": "code",
     "collapsed": false,
     "input": [
      "# matplotlib: Plotting-Paket \n",
      "%matplotlib inline\n",
      "import matplotlib.pyplot as plt\n",
      "\n",
      "fig, ax = plt.subplots(figsize=(14,4))\n",
      "ax.plot(data[:,0]+data[:,1]/12.0+data[:,2]/365, data[:,5])\n",
      "ax.axis('tight')\n",
      "ax.set_title('Temperatur in Stockholm')\n",
      "ax.set_xlabel('Jahr')\n",
      "ax.set_ylabel('Temperatur [$^\\circ$C]');"
     ],
     "language": "python",
     "metadata": {},
     "outputs": []
    },
    {
     "cell_type": "markdown",
     "metadata": {},
     "source": [
      "Mit *numpy.savetxt()* kann man Numpy-Arrays im CSV-Format abspeichern:"
     ]
    },
    {
     "cell_type": "code",
     "collapsed": false,
     "input": [
      "M = random.rand(3,3)\n",
      "\n",
      "M"
     ],
     "language": "python",
     "metadata": {},
     "outputs": []
    },
    {
     "cell_type": "code",
     "collapsed": false,
     "input": [
      "np.savetxt(\"random-matrix.csv\", M)"
     ],
     "language": "python",
     "metadata": {},
     "outputs": []
    },
    {
     "cell_type": "code",
     "collapsed": false,
     "input": [
      "!cat random-matrix.csv"
     ],
     "language": "python",
     "metadata": {},
     "outputs": []
    },
    {
     "cell_type": "code",
     "collapsed": false,
     "input": [
      "np.savetxt(\"random-matrix.csv\", M, fmt='%.5f') # fmt specifies the format\n",
      "\n",
      "!cat random-matrix.csv"
     ],
     "language": "python",
     "metadata": {},
     "outputs": []
    },
    {
     "cell_type": "markdown",
     "metadata": {},
     "source": [
      "Das eingebaute (native) Fileformat von Numpy ist praktisch zum Speichern und Wiedereinlesen von Arrays innerhalb von Numpy. Daf\u00fcr vorgesehen sind die Funktionen *numpy.save()* und *numpy.load()*:"
     ]
    },
    {
     "cell_type": "code",
     "collapsed": false,
     "input": [
      "np.save(\"random-matrix.npy\", M)\n",
      "\n",
      "!file random-matrix.npy"
     ],
     "language": "python",
     "metadata": {},
     "outputs": []
    },
    {
     "cell_type": "code",
     "collapsed": false,
     "input": [
      "np.load(\"random-matrix.npy\")"
     ],
     "language": "python",
     "metadata": {},
     "outputs": []
    },
    {
     "cell_type": "heading",
     "level": 2,
     "metadata": {},
     "source": [
      "\n",
      "2. Manipulation von Numpy-Arrays"
     ]
    },
    {
     "cell_type": "heading",
     "level": 3,
     "metadata": {},
     "source": [
      "2.1. Indizierung"
     ]
    },
    {
     "cell_type": "markdown",
     "metadata": {},
     "source": [
      "\u00c4hnlich wie in C wird \u00fcber eckige Klammern indiziert. Das erste Element hat den Index 0."
     ]
    },
    {
     "cell_type": "code",
     "collapsed": false,
     "input": [
      "# v is a vector, and has only one dimension, taking one index\n",
      "v[0]"
     ],
     "language": "python",
     "metadata": {},
     "outputs": []
    },
    {
     "cell_type": "code",
     "collapsed": false,
     "input": [
      "# M is a matrix, or a 2 dimensional array, taking two indices \n",
      "M[1,1]"
     ],
     "language": "python",
     "metadata": {},
     "outputs": []
    },
    {
     "cell_type": "markdown",
     "metadata": {},
     "source": [
      "Wird bei mehrdimensionalen Arrays einer der Indizes durch : ersetzt, erh\u00e4lt man einen Ausschnitt, den man beim Durchlaufen des gesamten Indizes erhalten w\u00fcrde:"
     ]
    },
    {
     "cell_type": "code",
     "collapsed": false,
     "input": [
      "M"
     ],
     "language": "python",
     "metadata": {},
     "outputs": []
    },
    {
     "cell_type": "code",
     "collapsed": false,
     "input": [
      "M[1,:] # row 1"
     ],
     "language": "python",
     "metadata": {},
     "outputs": []
    },
    {
     "cell_type": "code",
     "collapsed": false,
     "input": [
      "M[:,1] # column 1"
     ],
     "language": "python",
     "metadata": {},
     "outputs": []
    },
    {
     "cell_type": "markdown",
     "metadata": {},
     "source": [
      "Durch Indizierung kann man auch einzelnen Elementen oder Bereichen einen neuen Wert zuweisen:"
     ]
    },
    {
     "cell_type": "code",
     "collapsed": false,
     "input": [
      "M[0,0] = 1\n",
      "M"
     ],
     "language": "python",
     "metadata": {},
     "outputs": []
    },
    {
     "cell_type": "code",
     "collapsed": false,
     "input": [
      "# also works for rows and columns\n",
      "M[1,:] = 0\n",
      "M[:,2] = -1\n",
      "M"
     ],
     "language": "python",
     "metadata": {},
     "outputs": []
    },
    {
     "cell_type": "heading",
     "level": 3,
     "metadata": {},
     "source": [
      "2.2. Index Slicing"
     ]
    },
    {
     "cell_type": "markdown",
     "metadata": {},
     "source": [
      "*Index Slicing* ist der technische Begriff f\u00fcr die Ausdr\u00fccke der Form *M[lower:upper:step]*, die man zum Auslesen von Teilen eines Arrays verwendet:"
     ]
    },
    {
     "cell_type": "code",
     "collapsed": false,
     "input": [
      "A = np.array([1,2,3,4,5])\n",
      "A"
     ],
     "language": "python",
     "metadata": {},
     "outputs": []
    },
    {
     "cell_type": "code",
     "collapsed": false,
     "input": [
      "A[1:3]"
     ],
     "language": "python",
     "metadata": {},
     "outputs": []
    },
    {
     "cell_type": "markdown",
     "metadata": {},
     "source": [
      "Slices sind ver\u00e4nderlich: weist man ihnen einen neuen Wert zu, so wird das uspr\u00fcngliche Array genau an diesen Stellen ver\u00e4ndert:"
     ]
    },
    {
     "cell_type": "code",
     "collapsed": false,
     "input": [
      "A[1:3] = [-2,-3]\n",
      "A"
     ],
     "language": "python",
     "metadata": {},
     "outputs": []
    },
    {
     "cell_type": "code",
     "collapsed": false,
     "input": [
      "A[::] # lower, upper, step all take the default values"
     ],
     "language": "python",
     "metadata": {},
     "outputs": []
    },
    {
     "cell_type": "code",
     "collapsed": false,
     "input": [
      "A[::2] # step is 2, lower and upper defaults to the beginning and end of the array"
     ],
     "language": "python",
     "metadata": {},
     "outputs": []
    },
    {
     "cell_type": "code",
     "collapsed": false,
     "input": [
      "A[:3] # first three elements"
     ],
     "language": "python",
     "metadata": {},
     "outputs": []
    },
    {
     "cell_type": "code",
     "collapsed": false,
     "input": [
      "A[3:] # elements from index 3"
     ],
     "language": "python",
     "metadata": {},
     "outputs": []
    },
    {
     "cell_type": "markdown",
     "metadata": {},
     "source": [
      "Ein negativer Index z\u00e4hlt vom letzten Element aus zur\u00fcck:"
     ]
    },
    {
     "cell_type": "code",
     "collapsed": false,
     "input": [
      "A = np.array([1,2,3,4,5])"
     ],
     "language": "python",
     "metadata": {},
     "outputs": []
    },
    {
     "cell_type": "code",
     "collapsed": false,
     "input": [
      "A[-1] # the last element in the array"
     ],
     "language": "python",
     "metadata": {},
     "outputs": []
    },
    {
     "cell_type": "code",
     "collapsed": false,
     "input": [
      "A[-3:] # the last three elements"
     ],
     "language": "python",
     "metadata": {},
     "outputs": []
    },
    {
     "cell_type": "markdown",
     "metadata": {},
     "source": [
      "Index Slicing funktioniert genauso f\u00fcr mehrdimensionale Arrays:"
     ]
    },
    {
     "cell_type": "code",
     "collapsed": false,
     "input": [
      "A = np.array([[n+m*10 for n in range(5)] for m in range(5)])\n",
      "A"
     ],
     "language": "python",
     "metadata": {},
     "outputs": []
    },
    {
     "cell_type": "code",
     "collapsed": false,
     "input": [
      "# a block from the original array\n",
      "A[1:4, 1:4]"
     ],
     "language": "python",
     "metadata": {},
     "outputs": []
    },
    {
     "cell_type": "code",
     "collapsed": false,
     "input": [
      "# strides\n",
      "A[::2, ::2]"
     ],
     "language": "python",
     "metadata": {},
     "outputs": []
    },
    {
     "cell_type": "heading",
     "level": 3,
     "metadata": {},
     "source": [
      "2.3. Fancy Indexing"
     ]
    },
    {
     "cell_type": "markdown",
     "metadata": {},
     "source": [
      "Man spricht von *Fancy Indexing*, wenn eine Liste oder ein anderes Array bestehend aus Indizes zur Indizierung verwendet wird:"
     ]
    },
    {
     "cell_type": "code",
     "collapsed": false,
     "input": [
      "row_indices = [1, 2, 3]\n",
      "A[row_indices,:]"
     ],
     "language": "python",
     "metadata": {},
     "outputs": []
    },
    {
     "cell_type": "code",
     "collapsed": false,
     "input": [
      "col_indices = [1, 2, -1] # remember, index -1 means the last element\n",
      "A[row_indices, col_indices]"
     ],
     "language": "python",
     "metadata": {},
     "outputs": []
    },
    {
     "cell_type": "markdown",
     "metadata": {},
     "source": [
      "Man kann auch sog. *Indexmasken* verwenden, bei denen es sich um Arrays gleicher Gr\u00f6\u00dfe vom Datentyp *bool* handelt. Ist das entsprechende Element der Indexmaske auf dem Wert *True*, wird das zugeh\u00f6rige Element ausgew\u00e4hlt, andernfalls nicht."
     ]
    },
    {
     "cell_type": "code",
     "collapsed": false,
     "input": [
      "B = np.array([n for n in range(5)])\n",
      "B"
     ],
     "language": "python",
     "metadata": {},
     "outputs": []
    },
    {
     "cell_type": "code",
     "collapsed": false,
     "input": [
      "row_mask = np.array([True, False, True, False, False])\n",
      "B[row_mask]"
     ],
     "language": "python",
     "metadata": {},
     "outputs": []
    },
    {
     "cell_type": "markdown",
     "metadata": {},
     "source": [
      "Indexmasken sind besonders n\u00fctzlich zur bedingten Auswahl von Elementen:"
     ]
    },
    {
     "cell_type": "code",
     "collapsed": false,
     "input": [
      "x = np.arange(0, 10, 0.5)\n",
      "x"
     ],
     "language": "python",
     "metadata": {},
     "outputs": []
    },
    {
     "cell_type": "code",
     "collapsed": false,
     "input": [
      "mask = (5 < x) * (x < 7.5)\n",
      "mask"
     ],
     "language": "python",
     "metadata": {},
     "outputs": []
    },
    {
     "cell_type": "code",
     "collapsed": false,
     "input": [
      "x[mask]"
     ],
     "language": "python",
     "metadata": {},
     "outputs": []
    },
    {
     "cell_type": "heading",
     "level": 3,
     "metadata": {},
     "source": [
      "2.4. Iteration \u00fcber die Elemente eines Arrays"
     ]
    },
    {
     "cell_type": "markdown",
     "metadata": {},
     "source": [
      "Generell sollten Iterationen \u00fcber die Elemente eines Arrays vermieden werden, da diese in Interpretersprachen wie Python oder Matlab um Gr\u00f6\u00dfenordnungen langsamer als vektorisierte Operationen sind. In manchen F\u00e4llen lassen sich Iterationen nicht vermeiden. Hier nimmt man die Schleifenkonstruktion aus Python:"
     ]
    },
    {
     "cell_type": "code",
     "collapsed": false,
     "input": [
      "v = np.array([1,2,3,4])\n",
      "\n",
      "for element in v:\n",
      "    print(element)"
     ],
     "language": "python",
     "metadata": {},
     "outputs": []
    },
    {
     "cell_type": "code",
     "collapsed": false,
     "input": [
      "M = np.array([[1,2], [3,4]])\n",
      "\n",
      "for row in M:\n",
      "    print(\"row\", row)\n",
      "    \n",
      "    for element in row:\n",
      "        print(element)"
     ],
     "language": "python",
     "metadata": {},
     "outputs": []
    },
    {
     "cell_type": "markdown",
     "metadata": {},
     "source": [
      "Wenn man \u00fcber die Elemente eines Arrays iteriert und diese ver\u00e4ndert, kann man die Python-Funktion *enumerate()* verwenden, um geichzeitig das Element und seinen Index auszulesen:"
     ]
    },
    {
     "cell_type": "code",
     "collapsed": false,
     "input": [
      "for row_idx, row in enumerate(M):\n",
      "    print(\"row_idx\", row_idx, \"row\", row)\n",
      "    \n",
      "    for col_idx, element in enumerate(row):\n",
      "        print(\"col_idx\", col_idx, \"element\", element)\n",
      "       \n",
      "        # update the matrix M: square each element\n",
      "        M[row_idx, col_idx] = element ** 2"
     ],
     "language": "python",
     "metadata": {},
     "outputs": []
    },
    {
     "cell_type": "code",
     "collapsed": false,
     "input": [
      "# each element in M is now squared\n",
      "M"
     ],
     "language": "python",
     "metadata": {},
     "outputs": []
    },
    {
     "cell_type": "heading",
     "level": 2,
     "metadata": {},
     "source": [
      "\n",
      "3. Lineare Algebra"
     ]
    },
    {
     "cell_type": "markdown",
     "metadata": {},
     "source": [
      "Vektorisierung ist der Schl\u00fcssel zu schnellen numerischen Berechnungen in Numpy, d.h. ein Programm sollte so viel wie m\u00f6glich mithilfe von Vektor- und Matrixoperationen formuliert werden."
     ]
    },
    {
     "cell_type": "heading",
     "level": 3,
     "metadata": {},
     "source": [
      "3.1. Array-Operationen mit Skalaren "
     ]
    },
    {
     "cell_type": "markdown",
     "metadata": {},
     "source": [
      "Man kann die \u00fcblichen arithmetischen Operatoren dazu verwenden, um Arrays mit Zahlen zu addieren, subtrahieren, multiplizieren und dividieren."
     ]
    },
    {
     "cell_type": "code",
     "collapsed": false,
     "input": [
      "v1 = np.arange(0, 5)\n",
      "v1 * 2"
     ],
     "language": "python",
     "metadata": {},
     "outputs": []
    },
    {
     "cell_type": "code",
     "collapsed": false,
     "input": [
      "v1 + 2"
     ],
     "language": "python",
     "metadata": {},
     "outputs": []
    },
    {
     "cell_type": "code",
     "collapsed": false,
     "input": [
      "A * 2"
     ],
     "language": "python",
     "metadata": {},
     "outputs": []
    },
    {
     "cell_type": "code",
     "collapsed": false,
     "input": [
      "A + 2"
     ],
     "language": "python",
     "metadata": {},
     "outputs": []
    },
    {
     "cell_type": "heading",
     "level": 3,
     "metadata": {},
     "source": [
      "3.2. Elementweise Array-Operationen"
     ]
    },
    {
     "cell_type": "markdown",
     "metadata": {},
     "source": [
      "Wenn Arrays miteinander addiert, subtrahiert, multipliziert oder dividiert werden, geschieht das standardm\u00e4\u00dfig elementweise:"
     ]
    },
    {
     "cell_type": "code",
     "collapsed": false,
     "input": [
      "A * A # element-wise multiplication"
     ],
     "language": "python",
     "metadata": {},
     "outputs": []
    },
    {
     "cell_type": "code",
     "collapsed": false,
     "input": [
      "v1 * v1"
     ],
     "language": "python",
     "metadata": {},
     "outputs": []
    },
    {
     "cell_type": "markdown",
     "metadata": {},
     "source": [
      "Real- und Imagin\u00e4rteil eines komplexwertigen Arrays:"
     ]
    },
    {
     "cell_type": "code",
     "collapsed": false,
     "input": [
      "C = np.array([[1j, 2j], [3j, 4j]])\n",
      "C"
     ],
     "language": "python",
     "metadata": {},
     "outputs": []
    },
    {
     "cell_type": "code",
     "collapsed": false,
     "input": [
      "np.real(C) # same as: C.real"
     ],
     "language": "python",
     "metadata": {},
     "outputs": []
    },
    {
     "cell_type": "code",
     "collapsed": false,
     "input": [
      "np.imag(C) # same as: C.imag"
     ],
     "language": "python",
     "metadata": {},
     "outputs": []
    },
    {
     "cell_type": "markdown",
     "metadata": {},
     "source": [
      "Oder Betrag und Phasenwinkel:"
     ]
    },
    {
     "cell_type": "code",
     "collapsed": false,
     "input": [
      "np.abs(C)"
     ],
     "language": "python",
     "metadata": {},
     "outputs": []
    },
    {
     "cell_type": "code",
     "collapsed": false,
     "input": [
      "np.angle(C+1)"
     ],
     "language": "python",
     "metadata": {},
     "outputs": []
    },
    {
     "cell_type": "heading",
     "level": 3,
     "metadata": {},
     "source": [
      "3.3. Matrixalgebra"
     ]
    },
    {
     "cell_type": "markdown",
     "metadata": {},
     "source": [
      "Wie funktioniert dann die normale Matrixmultiplikation? Hierf\u00fcr existieren zwei M\u00f6glichkeiten. Man kann entweder die Funktion *numpy.dot()* verwenden, die f\u00fcr Matrix-Matrix-, Matrix-Vektor- und Vektor-Vektor-Multiplikation (Skalarprodukt) funktioniert:"
     ]
    },
    {
     "cell_type": "code",
     "collapsed": false,
     "input": [
      "np.dot(A, A)"
     ],
     "language": "python",
     "metadata": {},
     "outputs": []
    },
    {
     "cell_type": "code",
     "collapsed": false,
     "input": [
      "np.dot(A, v1)"
     ],
     "language": "python",
     "metadata": {},
     "outputs": []
    },
    {
     "cell_type": "code",
     "collapsed": false,
     "input": [
      "np.dot(v1, v1)"
     ],
     "language": "python",
     "metadata": {},
     "outputs": []
    },
    {
     "cell_type": "markdown",
     "metadata": {},
     "source": [
      "Oder man wandelt ein ein- oder zweidimensionales Array in den Datentyp *numpy.matrix* um, f\u00fcr den die Operatoren +, -, * und / so umdefiniert sind, das sie das korrekte Verhalten f\u00fcr Matritzen ergeben: "
     ]
    },
    {
     "cell_type": "code",
     "collapsed": false,
     "input": [
      "M = np.matrix(A)\n",
      "v = np.matrix(v1).T # make it a column vector\n",
      "v"
     ],
     "language": "python",
     "metadata": {},
     "outputs": []
    },
    {
     "cell_type": "code",
     "collapsed": false,
     "input": [
      "M * M"
     ],
     "language": "python",
     "metadata": {},
     "outputs": []
    },
    {
     "cell_type": "code",
     "collapsed": false,
     "input": [
      "M * v"
     ],
     "language": "python",
     "metadata": {},
     "outputs": []
    },
    {
     "cell_type": "code",
     "collapsed": false,
     "input": [
      "# Skalarprodukt\n",
      "v.T * v"
     ],
     "language": "python",
     "metadata": {},
     "outputs": []
    },
    {
     "cell_type": "code",
     "collapsed": false,
     "input": [
      "# with matrix objects, standard matrix algebra applies\n",
      "v + M*v"
     ],
     "language": "python",
     "metadata": {},
     "outputs": []
    },
    {
     "cell_type": "markdown",
     "metadata": {},
     "source": [
      "Wenn man Matrixobjekte mit inkompatiblen miteinander verrechnen will, wird ein Fehler ausgegeben:"
     ]
    },
    {
     "cell_type": "code",
     "collapsed": false,
     "input": [
      "v = np.matrix([1,2,3,4,5,6]).T\n",
      "np.shape(M), np.shape(v)"
     ],
     "language": "python",
     "metadata": {},
     "outputs": []
    },
    {
     "cell_type": "code",
     "collapsed": false,
     "input": [
      "M * v"
     ],
     "language": "python",
     "metadata": {},
     "outputs": []
    },
    {
     "cell_type": "markdown",
     "metadata": {},
     "source": [
      "Inverse und Determinante:"
     ]
    },
    {
     "cell_type": "code",
     "collapsed": false,
     "input": [
      "np.linalg.inv(M*M) # equivalent to C.I "
     ],
     "language": "python",
     "metadata": {},
     "outputs": []
    },
    {
     "cell_type": "code",
     "collapsed": false,
     "input": [
      "np.linalg.det(M*M)"
     ],
     "language": "python",
     "metadata": {},
     "outputs": []
    },
    {
     "cell_type": "heading",
     "level": 2,
     "metadata": {},
     "source": [
      "4. Datenanalyse"
     ]
    },
    {
     "cell_type": "markdown",
     "metadata": {},
     "source": [
      "Oft ist es praktisch, Datens\u00e4tze in Numpy-Arrays zu speichern. Numpy stellt eine Reihe von Funktionen zur statistischen Datenanalyse zur Verf\u00fcgung, hier am Beispiel des Stockholmer Temperatur-Datensatzes."
     ]
    },
    {
     "cell_type": "code",
     "collapsed": false,
     "input": [
      "# reminder, the temperature dataset is stored in the data variable:\n",
      "np.shape(data)"
     ],
     "language": "python",
     "metadata": {},
     "outputs": []
    },
    {
     "cell_type": "markdown",
     "metadata": {},
     "source": [
      "Mittlere Temperatur, Varianz und Standardabweichung:"
     ]
    },
    {
     "cell_type": "code",
     "collapsed": false,
     "input": [
      "# the temperature data is in column 3\n",
      "np.mean(data[:,3])"
     ],
     "language": "python",
     "metadata": {},
     "outputs": []
    },
    {
     "cell_type": "code",
     "collapsed": false,
     "input": [
      "np.var(data[:,3]), np.std(data[:,3])"
     ],
     "language": "python",
     "metadata": {},
     "outputs": []
    },
    {
     "cell_type": "markdown",
     "metadata": {},
     "source": [
      "Minimum, Maximum, Summe, Produkt:"
     ]
    },
    {
     "cell_type": "code",
     "collapsed": false,
     "input": [
      "# lowest daily average temperature\n",
      "data[:,3].min()"
     ],
     "language": "python",
     "metadata": {},
     "outputs": []
    },
    {
     "cell_type": "code",
     "collapsed": false,
     "input": [
      "# highest daily average temperature\n",
      "data[:,3].max()"
     ],
     "language": "python",
     "metadata": {},
     "outputs": []
    },
    {
     "cell_type": "code",
     "collapsed": false,
     "input": [
      "d = np.arange(0, 10)\n",
      "d"
     ],
     "language": "python",
     "metadata": {},
     "outputs": []
    },
    {
     "cell_type": "code",
     "collapsed": false,
     "input": [
      "# sum up all elements\n",
      "np.sum(d)"
     ],
     "language": "python",
     "metadata": {},
     "outputs": []
    },
    {
     "cell_type": "code",
     "collapsed": false,
     "input": [
      "# product of all elements\n",
      "np.prod(d+1)"
     ],
     "language": "python",
     "metadata": {},
     "outputs": []
    },
    {
     "cell_type": "code",
     "collapsed": false,
     "input": [
      "# cumulative sum\n",
      "np.cumsum(d)"
     ],
     "language": "python",
     "metadata": {},
     "outputs": []
    },
    {
     "cell_type": "code",
     "collapsed": false,
     "input": [
      "# cumulative product\n",
      "np.cumprod(d+1)"
     ],
     "language": "python",
     "metadata": {},
     "outputs": []
    },
    {
     "cell_type": "heading",
     "level": 1,
     "metadata": {},
     "source": [
      "\n",
      "Matplotlib: wissenschaftliche 2D-Plots"
     ]
    },
    {
     "cell_type": "code",
     "collapsed": false,
     "input": [
      "X = np.linspace(-np.pi, np.pi, 256)\n",
      "C,S = np.cos(X), np.sin(X)\n",
      "\n",
      "fig,ax = plt.subplots()\n",
      "ax.plot(X,C)\n",
      "ax.plot(X,S);"
     ],
     "language": "python",
     "metadata": {},
     "outputs": []
    },
    {
     "cell_type": "code",
     "collapsed": false,
     "input": [
      "# Gr\u00f6\u00dfe der Figur, Farbe und Linienbreite \u00e4ndern\n",
      "fig,ax = plt.subplots(figsize=(18,8), dpi=100)\n",
      "ax.plot(X, C, color=\"blue\", linewidth=2.5, linestyle=\"-\")\n",
      "ax.plot(X, S, color=\"red\",  linewidth=2.5, linestyle=\"-\");"
     ],
     "language": "python",
     "metadata": {},
     "outputs": []
    },
    {
     "cell_type": "code",
     "collapsed": false,
     "input": [
      "fig,ax = plt.subplots(figsize=(18,8), dpi=100)\n",
      "ax.plot(X, C, color=\"blue\", linewidth=2.5, linestyle=\"-\")\n",
      "ax.plot(X, S, color=\"red\",  linewidth=2.5, linestyle=\"-\");\n",
      "\n",
      "xmin ,xmax = X.min(), X.max()\n",
      "ymin, ymax = C.min(), C.max()\n",
      "\n",
      "dx = (xmax - xmin) * 0.2\n",
      "dy = (ymax - ymin) * 0.2\n",
      "\n",
      "# Endpunkte der Achsen setzen\n",
      "ax.axis([xmin - dx, xmax + dx, ymin - dy, ymax + dy]);"
     ],
     "language": "python",
     "metadata": {},
     "outputs": []
    },
    {
     "cell_type": "code",
     "collapsed": false,
     "input": [
      "fig,ax = plt.subplots(figsize=(18,8), dpi=100)\n",
      "ax.plot(X, C, color=\"blue\", linewidth=2.5, linestyle=\"-\")\n",
      "ax.plot(X, S, color=\"red\",  linewidth=2.5, linestyle=\"-\");\n",
      "xmin ,xmax = X.min(), X.max()\n",
      "ymin, ymax = C.min(), C.max()\n",
      "dx = (xmax - xmin) * 0.2\n",
      "dy = (ymax - ymin) * 0.2\n",
      "ax.axis([xmin - dx, xmax + dx, ymin - dy, ymax + dy])\n",
      "\n",
      "# Achsenmarkierungen\n",
      "ax.set_xticks( [-np.pi, -np.pi/2, 0, np.pi/2, np.pi])\n",
      "ax.set_yticks([-1, 0, +1]);"
     ],
     "language": "python",
     "metadata": {},
     "outputs": []
    },
    {
     "cell_type": "code",
     "collapsed": false,
     "input": [
      "fig,ax = plt.subplots(figsize=(18,8), dpi=100)\n",
      "ax.plot(X, C, color=\"blue\", linewidth=2.5, linestyle=\"-\")\n",
      "ax.plot(X, S, color=\"red\",  linewidth=2.5, linestyle=\"-\");\n",
      "xmin ,xmax = X.min(), X.max()\n",
      "ymin, ymax = C.min(), C.max()\n",
      "dx = (xmax - xmin) * 0.2\n",
      "dy = (ymax - ymin) * 0.2\n",
      "ax.axis([xmin - dx, xmax + dx, ymin - dy, ymax + dy])\n",
      "\n",
      "# Beschriftung der Achsenmarkierungen\n",
      "ax.set_xticks([-np.pi, -np.pi/2, 0, np.pi/2, np.pi])\n",
      "ax.set_xticklabels([r'$-\\pi$', r'$-\\pi/2$', r'$0$', r'$+\\pi/2$', r'$+\\pi$'])\n",
      "ax.set_yticks([-1, 0, +1])\n",
      "ax.set_yticklabels([r'$-1$', r'$0$', r'$+1$']);"
     ],
     "language": "python",
     "metadata": {},
     "outputs": []
    },
    {
     "cell_type": "code",
     "collapsed": false,
     "input": [
      "fig,ax = plt.subplots(figsize=(18,8), dpi=100)\n",
      "ax.plot(X, C, color=\"blue\", linewidth=2.5, linestyle=\"-\")\n",
      "ax.plot(X, S, color=\"red\",  linewidth=2.5, linestyle=\"-\");\n",
      "xmin ,xmax = X.min(), X.max()\n",
      "ymin, ymax = C.min(), C.max()\n",
      "dx = (xmax - xmin) * 0.2\n",
      "dy = (ymax - ymin) * 0.2\n",
      "ax.axis([xmin - dx, xmax + dx, ymin - dy, ymax + dy])\n",
      "ax.set_xticks([-np.pi, -np.pi/2, 0, np.pi/2, np.pi])\n",
      "ax.set_xticklabels([r'$-\\pi$', r'$-\\pi/2$', r'$0$', r'$+\\pi/2$', r'$+\\pi$'])\n",
      "ax.set_yticks([-1, 0, +1])\n",
      "ax.set_yticklabels([r'$-1$', r'$0$', r'$+1$']);\n",
      "\n",
      "# Positionierung der Achsen\n",
      "ax.spines['right'].set_color('none')\n",
      "ax.spines['top'].set_color('none')\n",
      "ax.xaxis.set_ticks_position('bottom')\n",
      "ax.spines['bottom'].set_position(('data',0))\n",
      "ax.yaxis.set_ticks_position('left')\n",
      "ax.spines['left'].set_position(('data',0))\n"
     ],
     "language": "python",
     "metadata": {},
     "outputs": []
    },
    {
     "cell_type": "code",
     "collapsed": false,
     "input": [
      "fig,ax = plt.subplots(figsize=(18,8), dpi=100)\n",
      "\n",
      "# Name f\u00fcr die Kurve festlegen\n",
      "ax.plot(X, C, color=\"blue\", linewidth=2.5, linestyle=\"-\", label=\"Cosinus\")\n",
      "ax.plot(X, S, color=\"red\",  linewidth=2.5, linestyle=\"-\", label=\"Sinus\")\n",
      "\n",
      "xmin ,xmax = X.min(), X.max()\n",
      "ymin, ymax = C.min(), C.max()\n",
      "dx = (xmax - xmin) * 0.2\n",
      "dy = (ymax - ymin) * 0.2\n",
      "ax.axis([xmin - dx, xmax + dx, ymin - dy, ymax + dy])\n",
      "ax.set_xticks([-np.pi, -np.pi/2, 0, np.pi/2, np.pi])\n",
      "ax.set_xticklabels([r'$-\\pi$', r'$-\\pi/2$', r'$0$', r'$+\\pi/2$', r'$+\\pi$'])\n",
      "ax.set_yticks([-1, 0, +1])\n",
      "ax.set_yticklabels([r'$-1$', r'$0$', r'$+1$']);\n",
      "ax.spines['right'].set_color('none')\n",
      "ax.spines['top'].set_color('none')\n",
      "ax.xaxis.set_ticks_position('bottom')\n",
      "ax.spines['bottom'].set_position(('data',0))\n",
      "ax.yaxis.set_ticks_position('left')\n",
      "ax.spines['left'].set_position(('data',0))\n",
      "\n",
      "# Legende anzeigen\n",
      "ax.legend(loc='upper left');"
     ],
     "language": "python",
     "metadata": {},
     "outputs": []
    },
    {
     "cell_type": "code",
     "collapsed": false,
     "input": [
      "fig,ax = plt.subplots(figsize=(18,8), dpi=100)\n",
      "ax.plot(X, C, color=\"blue\", linewidth=2.5, linestyle=\"-\", label=\"Cosinus\")\n",
      "ax.plot(X, S, color=\"red\",  linewidth=2.5, linestyle=\"-\", label=\"Sinus\")\n",
      "xmin ,xmax = X.min(), X.max()\n",
      "ymin, ymax = C.min(), C.max()\n",
      "dx = (xmax - xmin) * 0.2\n",
      "dy = (ymax - ymin) * 0.2\n",
      "ax.axis([xmin - dx, xmax + dx, ymin - dy, ymax + dy])\n",
      "ax.set_xticks([-np.pi, -np.pi/2, 0, np.pi/2, np.pi])\n",
      "ax.set_xticklabels([r'$-\\pi$', r'$-\\pi/2$', r'$0$', r'$+\\pi/2$', r'$+\\pi$'])\n",
      "ax.set_yticks([-1, 0, +1])\n",
      "ax.set_yticklabels([r'$-1$', r'$0$', r'$+1$']);\n",
      "ax.spines['right'].set_color('none')\n",
      "ax.spines['top'].set_color('none')\n",
      "ax.xaxis.set_ticks_position('bottom')\n",
      "ax.spines['bottom'].set_position(('data',0))\n",
      "ax.yaxis.set_ticks_position('left')\n",
      "ax.spines['left'].set_position(('data',0))\n",
      "ax.legend(loc='upper left')\n",
      "\n",
      "t = 2*np.pi/3 # x-Position der Beschriftung\n",
      "\n",
      "# gestrichelte Linie an t hin zur Cosinuskurve\n",
      "ax.plot([t,t],[0,np.cos(t)], color ='blue', linewidth=2.5, linestyle=\"--\")\n",
      "\n",
      "# Markierungspunkt auf Cosinuskurve bei t\n",
      "ax.scatter([t,],[np.cos(t),], 50, color ='blue')\n",
      "\n",
      "# Beschriftung\n",
      "ax.annotate(r'$\\sin(\\frac{2\\pi}{3})=\\frac{\\sqrt{3}}{2}$',\n",
      "         xy=(t, np.sin(t)), xycoords='data',\n",
      "         xytext=(+10, +30), textcoords='offset points', fontsize=16,\n",
      "         arrowprops=dict(arrowstyle=\"->\", connectionstyle=\"arc3,rad=.2\"))\n",
      "\n",
      "\n",
      "# gestrichelte Linie an t hin zur Sinuskurve\n",
      "ax.plot([t,t],[0,np.sin(t)], color ='red', linewidth=2.5, linestyle=\"--\")\n",
      "\n",
      "# Markierungspunkt auf Sinuskurve bei t\n",
      "ax.scatter([t,],[np.sin(t),], 50, color ='red')\n",
      "\n",
      "# Beschriftung\n",
      "ax.annotate(r'$\\cos(\\frac{2\\pi}{3})=-\\frac{1}{2}$',\n",
      "         xy=(t, np.cos(t)), xycoords='data',\n",
      "         xytext=(-90, -50), textcoords='offset points', fontsize=16,\n",
      "         arrowprops=dict(arrowstyle=\"->\", connectionstyle=\"arc3,rad=.2\"));"
     ],
     "language": "python",
     "metadata": {},
     "outputs": []
    },
    {
     "cell_type": "code",
     "collapsed": false,
     "input": [],
     "language": "python",
     "metadata": {},
     "outputs": []
    }
   ],
   "metadata": {}
  }
 ]
}