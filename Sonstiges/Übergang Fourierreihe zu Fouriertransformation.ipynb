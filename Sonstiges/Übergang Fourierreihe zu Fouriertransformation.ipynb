{
 "metadata": {
  "name": "",
  "signature": "sha256:5c02654ed44017c37f89e85afa53eb57ec659ba87319f1d174fb025fb9b7310f"
 },
 "nbformat": 3,
 "nbformat_minor": 0,
 "worksheets": [
  {
   "cells": [
    {
     "cell_type": "heading",
     "level": 1,
     "metadata": {},
     "source": [
      "\u00dcbergang Fourierreihe zur Fouriertransformation anhand der Rechteckschwingung"
     ]
    },
    {
     "cell_type": "code",
     "collapsed": false,
     "input": [
      "%matplotlib inline\n",
      "\n",
      "from math import floor\n",
      "\n",
      "import matplotlib.pyplot as plt\n",
      "import numpy as np"
     ],
     "language": "python",
     "metadata": {},
     "outputs": []
    },
    {
     "cell_type": "markdown",
     "metadata": {},
     "source": [
      "Schwingungsparameter:"
     ]
    },
    {
     "cell_type": "code",
     "collapsed": false,
     "input": [
      "fs = 44100          # Abtastfrequenz\n",
      "f0 = 200            # Frequenz der Schwingung\n",
      "tau = 0.625         # Impulsdauer in ms"
     ],
     "language": "python",
     "metadata": {},
     "outputs": []
    },
    {
     "cell_type": "markdown",
     "metadata": {},
     "source": [
      "Erzeugung der Rechteckschwingung:"
     ]
    },
    {
     "cell_type": "code",
     "collapsed": false,
     "input": [
      "def plot_rect(fs, f0, tau):\n",
      "    t = np.linspace(0,1.0,fs)           # erzeugt Zeitachse fuer eine Dauer von 1s\n",
      "    s = np.zeros(len(t))                # Signal wird anfaenglich auf 0 gesetzt\n",
      "    T = round(fs/f0)                    # Periode des Signals in Abtastschritten\n",
      "    n = round(fs*tau/1000)              # Groesse des Impulses in Abtastschritten\n",
      "    n0 = floor((fs + 1)/T)              # Anzahl der Perioden im Gesamtzeitraum\n",
      "\n",
      "    for i in np.arange(0,n0):           # Rechteckimpulse setzen\n",
      "        s[i*T:i*T+n] = np.ones(n)\n",
      "\n",
      "    # im Zeitbereich anzeigen\n",
      "    fig,ax = plt.subplots(figsize=(18,6), dpi=100)\n",
      "    xmin ,xmax = t.min(), t.max()\n",
      "    ymin, ymax = s.min(), s.max()\n",
      "    dx = (xmax - xmin) * 0.1\n",
      "    dy = (ymax - ymin) * 0.1\n",
      "    ax.axis([xmin - dx, xmax + dx, ymin - dy, ymax + dy])\n",
      "    ax.plot(t,s)\n",
      "    ax.set_xlabel('Zeit [s]')\n",
      "    \n",
      "    # im Frequenzbereich anzeigen\n",
      "    fig,ax = plt.subplots(figsize=(18,6), dpi=100)\n",
      "    a = np.abs(np.fft.fft(s))                    # Amplitudenspektrum\n",
      "    amin, amax = a.min(), a.max()\n",
      "    da = (amax - amin) * 0.1\n",
      "    ax.axis([0, fs//2+1, amin - da, amax + da])\n",
      "    ax.plot(a[:fs//2+2])\n",
      "    ax.set_xlabel('Frequenz [Hz]')\n",
      "\n",
      "plot_rect(fs, f0, tau)"
     ],
     "language": "python",
     "metadata": {},
     "outputs": []
    },
    {
     "cell_type": "code",
     "collapsed": false,
     "input": [
      "f0 = 100\n",
      "plot_rect(fs, f0, tau)"
     ],
     "language": "python",
     "metadata": {},
     "outputs": []
    },
    {
     "cell_type": "code",
     "collapsed": false,
     "input": [
      "f0 = 50\n",
      "plot_rect(fs, f0, tau)"
     ],
     "language": "python",
     "metadata": {},
     "outputs": []
    },
    {
     "cell_type": "code",
     "collapsed": false,
     "input": [
      "f0 = 20\n",
      "plot_rect(fs, f0, tau)"
     ],
     "language": "python",
     "metadata": {},
     "outputs": []
    },
    {
     "cell_type": "code",
     "collapsed": false,
     "input": [],
     "language": "python",
     "metadata": {},
     "outputs": []
    }
   ],
   "metadata": {}
  }
 ]
}