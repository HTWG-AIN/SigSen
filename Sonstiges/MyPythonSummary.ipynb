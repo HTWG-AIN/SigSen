{
 "cells": [
  {
   "cell_type": "markdown",
   "metadata": {},
   "source": [
    "# Basics"
   ]
  },
  {
   "cell_type": "code",
   "execution_count": 63,
   "metadata": {
    "collapsed": false,
    "scrolled": true
   },
   "outputs": [
    {
     "name": "stdout",
     "output_type": "stream",
     "text": [
      "<class 'int'>\n",
      "7\n",
      "<class 'tuple'>\n"
     ]
    },
    {
     "data": {
      "text/plain": [
       "True"
      ]
     },
     "execution_count": 63,
     "metadata": {},
     "output_type": "execute_result"
    }
   ],
   "source": [
    "a = 7\n",
    "print(type(a))\n",
    "\n",
    "print( str(a))\n",
    "\n",
    "b = 1,3\n",
    "print(type(b))\n",
    "b\n",
    "isinstance(b, tuple)"
   ]
  },
  {
   "cell_type": "code",
   "execution_count": 57,
   "metadata": {
    "collapsed": false
   },
   "outputs": [
    {
     "name": "stdout",
     "output_type": "stream",
     "text": [
      "<class 'complex'>\n",
      "(1-1j)\n",
      "1.0 -1.0\n"
     ]
    }
   ],
   "source": [
    "# complex numbers: note the use of `j` to specify the imaginary part\n",
    "x = 1.0 - 1.0j\n",
    "print(type(x))\n",
    "print(x)\n",
    "print(x.real, x.imag)"
   ]
  },
  {
   "cell_type": "code",
   "execution_count": 67,
   "metadata": {
    "collapsed": false
   },
   "outputs": [
    {
     "data": {
      "text/plain": [
       "'github3'"
      ]
     },
     "execution_count": 67,
     "metadata": {},
     "output_type": "execute_result"
    }
   ],
   "source": [
    "s = \"github\"\n",
    "s + \"huhu\"\n",
    "s + str(3)"
   ]
  },
  {
   "cell_type": "markdown",
   "metadata": {},
   "source": [
    "# Listen, Tupel, Dictionaries Kontrollstrukturen, "
   ]
  },
  {
   "cell_type": "markdown",
   "metadata": {},
   "source": [
    "## Listen"
   ]
  },
  {
   "cell_type": "code",
   "execution_count": 78,
   "metadata": {
    "collapsed": false
   },
   "outputs": [
    {
     "name": "stdout",
     "output_type": "stream",
     "text": [
      "True\n",
      "['hallo', 23, 3.0, [2, 3, 4]]\n",
      "[2, 3, 4]\n"
     ]
    }
   ],
   "source": [
    "l = [\"hallo\", 23, 3.,[2,3,4]]\n",
    "print(isinstance(l, list))\n",
    "print(l)\n",
    "print(l[3])"
   ]
  },
  {
   "cell_type": "code",
   "execution_count": 118,
   "metadata": {
    "collapsed": false
   },
   "outputs": [
    {
     "name": "stdout",
     "output_type": "stream",
     "text": [
      "[-10, -4, 2, 8, 14, 20, 26]\n",
      "[-10, -4, 2, 8, 14, 20, 26, 'Huhu']\n",
      "[-10, -4, 2, 'a', 8, 14, 20, 26, 'Huhu']\n",
      "None\n",
      "True\n",
      "[-10, -4, 'a', 8, 14, 20, 26]\n",
      "['h', 'a', 'l', 'l', 'o']\n"
     ]
    }
   ],
   "source": [
    "\n",
    "start = -10\n",
    "\n",
    "stop = 30\n",
    "step = 6\n",
    "l = list(range(start, stop, step))\n",
    "print(l)\n",
    "l.append(\"Huhu\") ##!!!\n",
    "print(l)\n",
    "l.insert(3,\"a\")\n",
    "print(l)\n",
    "print(l.remove(\"Huhu\"))\n",
    "del l[2] ##!!!\n",
    "print ( -4 in l) ## search\n",
    "print(l)\n",
    "print(list(\"hallo\"))"
   ]
  },
  {
   "cell_type": "markdown",
   "metadata": {
    "collapsed": true
   },
   "source": [
    "## Tupel"
   ]
  },
  {
   "cell_type": "code",
   "execution_count": 8,
   "metadata": {
    "collapsed": false
   },
   "outputs": [
    {
     "name": "stdout",
     "output_type": "stream",
     "text": [
      "6\n",
      "4\n",
      "8\n"
     ]
    }
   ],
   "source": [
    "## nicht nachträglich veränderbar!\n",
    "vektor = 6,4,8\n",
    "x, y, z = vektor\n",
    "print(x)\n",
    "print(y)\n",
    "print(z)"
   ]
  },
  {
   "cell_type": "markdown",
   "metadata": {},
   "source": [
    "## Dictionarys"
   ]
  },
  {
   "cell_type": "code",
   "execution_count": 39,
   "metadata": {
    "collapsed": false
   },
   "outputs": [
    {
     "name": "stdout",
     "output_type": "stream",
     "text": [
      "huhu\n",
      "{1: 'huhu', 2: 'dudoof', 3: 'heureka', -6: None}\n",
      "True\n",
      "None\n"
     ]
    }
   ],
   "source": [
    "diction = {1:\"huhu\", 2 : \"dudoof\", 3 :\"heureka\"}\n",
    "##abfragen\n",
    "print(diction[1])\n",
    "isinstance(diction, type(dict))\n",
    "##neue einfuegen\n",
    "diction[-6] = None\n",
    "print(diction)\n",
    "## key suchen\n",
    "print(2 in diction)\n",
    "diction.keys()\n",
    "s = diction.get(7)\n",
    "print(s)"
   ]
  },
  {
   "cell_type": "markdown",
   "metadata": {},
   "source": [
    "## Kontrollstrukturen"
   ]
  },
  {
   "cell_type": "code",
   "execution_count": 50,
   "metadata": {
    "collapsed": false
   },
   "outputs": [
    {
     "name": "stdout",
     "output_type": "stream",
     "text": [
      "heureka\n"
     ]
    }
   ],
   "source": [
    "a = 32\n",
    "b = 58\n",
    "if a == 3 or b == 1 :\n",
    "    print(\"du a..\")\n",
    "elif a == 2 and b == 5 :\n",
    "    print(\"net schlecht\")\n",
    "else:\n",
    "    print(\"heureka\")"
   ]
  },
  {
   "cell_type": "code",
   "execution_count": 15,
   "metadata": {
    "collapsed": false
   },
   "outputs": [
    {
     "name": "stdout",
     "output_type": "stream",
     "text": [
      "<class 'range'>\n",
      "range(-4, 2)\n"
     ]
    }
   ],
   "source": [
    "## for\n",
    "##range\n",
    "print(type(range(4)))\n",
    "print(range(-4,2))"
   ]
  },
  {
   "cell_type": "code",
   "execution_count": 20,
   "metadata": {
    "collapsed": false,
    "slideshow": {
     "slide_type": "-"
    }
   },
   "outputs": [
    {
     "name": "stdout",
     "output_type": "stream",
     "text": [
      "a\n",
      "d\n",
      "s\n",
      "-4\n",
      "-3\n",
      "-2\n",
      "-1\n",
      "0\n",
      "1\n"
     ]
    }
   ],
   "source": [
    "l = [\"a\", \"d\",\"s\"]\n",
    "for word in l:\n",
    "    print(word)\n",
    "for a in range(-4,2):\n",
    "    print(a)\n"
   ]
  },
  {
   "cell_type": "code",
   "execution_count": 30,
   "metadata": {
    "collapsed": false
   },
   "outputs": [
    {
     "name": "stdout",
     "output_type": "stream",
     "text": [
      "a 3\n",
      "b 4\n",
      "g 88\n"
     ]
    }
   ],
   "source": [
    "dic = {\"a\":3 , \"b\": 4, \"g\": 88}\n",
    "for k, v in dic.items():\n",
    "    print(k + \" \" + str(v))"
   ]
  },
  {
   "cell_type": "code",
   "execution_count": 37,
   "metadata": {
    "collapsed": false
   },
   "outputs": [
    {
     "name": "stdout",
     "output_type": "stream",
     "text": [
      "234\n",
      "222324\n",
      "323334\n"
     ]
    }
   ],
   "source": [
    "l = [(2,3,4),(22,23,24),(32,33,34)]\n",
    "for k,v,w in l:\n",
    "    print(str(k) + str(v) + str(w))\n"
   ]
  },
  {
   "cell_type": "code",
   "execution_count": 44,
   "metadata": {
    "collapsed": false
   },
   "outputs": [
    {
     "name": "stdout",
     "output_type": "stream",
     "text": [
      "0 1\n",
      "1 b\n",
      "0 -3\n",
      "1 -2\n",
      "2 -1\n",
      "3 0\n",
      "4 1\n",
      "5 2\n"
     ]
    }
   ],
   "source": [
    "for a, c in enumerate([1,\"b\"]):\n",
    "    print(a, c)\n",
    "for idx, x in enumerate(range(-3,3)):\n",
    "    print(idx, x)"
   ]
  },
  {
   "cell_type": "code",
   "execution_count": 51,
   "metadata": {
    "collapsed": false,
    "slideshow": {
     "slide_type": "-"
    }
   },
   "outputs": [
    {
     "name": "stdout",
     "output_type": "stream",
     "text": [
      "27\n"
     ]
    }
   ],
   "source": [
    "def notsquare(n):\n",
    "    print(n ** n)  ##!! ** ist ^\n",
    "square(3)"
   ]
  },
  {
   "cell_type": "code",
   "execution_count": 57,
   "metadata": {
    "collapsed": false
   },
   "outputs": [
    {
     "name": "stdout",
     "output_type": "stream",
     "text": [
      "5\n"
     ]
    }
   ],
   "source": [
    "def fkt():\n",
    "    return (2,4,5)\n",
    "(x1,x2,x3 )= fkt()\n",
    "print (x3)"
   ]
  },
  {
   "cell_type": "markdown",
   "metadata": {},
   "source": [
    "## Module"
   ]
  },
  {
   "cell_type": "code",
   "execution_count": 63,
   "metadata": {
    "collapsed": false
   },
   "outputs": [
    {
     "data": {
      "text/plain": [
       "3.141592653589793"
      ]
     },
     "execution_count": 63,
     "metadata": {},
     "output_type": "execute_result"
    }
   ],
   "source": [
    "from math import *\n",
    "\n",
    "pi\n",
    "cos"
   ]
  },
  {
   "cell_type": "code",
   "execution_count": 67,
   "metadata": {
    "collapsed": false
   },
   "outputs": [],
   "source": [
    "from math import cos, sin\n"
   ]
  }
 ],
 "metadata": {
  "kernelspec": {
   "display_name": "Python 3",
   "language": "python",
   "name": "python3"
  },
  "language_info": {
   "codemirror_mode": {
    "name": "ipython",
    "version": 3
   },
   "file_extension": ".py",
   "mimetype": "text/x-python",
   "name": "python",
   "nbconvert_exporter": "python",
   "pygments_lexer": "ipython3",
   "version": "3.4.3"
  }
 },
 "nbformat": 4,
 "nbformat_minor": 0
}
